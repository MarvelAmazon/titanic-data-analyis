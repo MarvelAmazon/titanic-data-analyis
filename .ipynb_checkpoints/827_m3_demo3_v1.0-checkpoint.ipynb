{
 "cells": [
  {
   "cell_type": "markdown",
   "metadata": {},
   "source": [
    "# Predictive Analytics\n",
    "# Module 3 - Inferential Statistics\n",
    "## Demo 3 - Margin of Error & Confidence Interval"
   ]
  },
  {
   "cell_type": "code",
   "execution_count": 2,
   "metadata": {},
   "outputs": [],
   "source": [
    "import pandas as pd\n",
    "import numpy as np"
   ]
  },
  {
   "cell_type": "markdown",
   "metadata": {},
   "source": [
    "### Generate random data & its sample"
   ]
  },
  {
   "cell_type": "code",
   "execution_count": 5,
   "metadata": {},
   "outputs": [
    {
     "data": {
      "text/html": [
       "<div>\n",
       "<style scoped>\n",
       "    .dataframe tbody tr th:only-of-type {\n",
       "        vertical-align: middle;\n",
       "    }\n",
       "\n",
       "    .dataframe tbody tr th {\n",
       "        vertical-align: top;\n",
       "    }\n",
       "\n",
       "    .dataframe thead th {\n",
       "        text-align: right;\n",
       "    }\n",
       "</style>\n",
       "<table border=\"1\" class=\"dataframe\">\n",
       "  <thead>\n",
       "    <tr style=\"text-align: right;\">\n",
       "      <th></th>\n",
       "      <th>x1</th>\n",
       "      <th>x2</th>\n",
       "      <th>x3</th>\n",
       "      <th>x4</th>\n",
       "      <th>x5</th>\n",
       "      <th>y</th>\n",
       "    </tr>\n",
       "  </thead>\n",
       "  <tbody>\n",
       "    <tr>\n",
       "      <td>507</td>\n",
       "      <td>-0.286468</td>\n",
       "      <td>0.135713</td>\n",
       "      <td>-0.259443</td>\n",
       "      <td>-0.702306</td>\n",
       "      <td>0.406754</td>\n",
       "      <td>-43.333444</td>\n",
       "    </tr>\n",
       "    <tr>\n",
       "      <td>818</td>\n",
       "      <td>-0.319466</td>\n",
       "      <td>-0.335960</td>\n",
       "      <td>-0.338797</td>\n",
       "      <td>-0.042322</td>\n",
       "      <td>1.278414</td>\n",
       "      <td>25.551393</td>\n",
       "    </tr>\n",
       "    <tr>\n",
       "      <td>452</td>\n",
       "      <td>-0.876602</td>\n",
       "      <td>-0.161790</td>\n",
       "      <td>1.109192</td>\n",
       "      <td>-0.116126</td>\n",
       "      <td>-0.135569</td>\n",
       "      <td>-32.026281</td>\n",
       "    </tr>\n",
       "    <tr>\n",
       "      <td>368</td>\n",
       "      <td>-1.093123</td>\n",
       "      <td>-0.673166</td>\n",
       "      <td>1.317230</td>\n",
       "      <td>0.267235</td>\n",
       "      <td>1.749881</td>\n",
       "      <td>72.424600</td>\n",
       "    </tr>\n",
       "    <tr>\n",
       "      <td>242</td>\n",
       "      <td>1.157555</td>\n",
       "      <td>-1.426662</td>\n",
       "      <td>0.143651</td>\n",
       "      <td>-0.488784</td>\n",
       "      <td>-0.970141</td>\n",
       "      <td>-71.740872</td>\n",
       "    </tr>\n",
       "  </tbody>\n",
       "</table>\n",
       "</div>"
      ],
      "text/plain": [
       "           x1        x2        x3        x4        x5          y\n",
       "507 -0.286468  0.135713 -0.259443 -0.702306  0.406754 -43.333444\n",
       "818 -0.319466 -0.335960 -0.338797 -0.042322  1.278414  25.551393\n",
       "452 -0.876602 -0.161790  1.109192 -0.116126 -0.135569 -32.026281\n",
       "368 -1.093123 -0.673166  1.317230  0.267235  1.749881  72.424600\n",
       "242  1.157555 -1.426662  0.143651 -0.488784 -0.970141 -71.740872"
      ]
     },
     "execution_count": 5,
     "metadata": {},
     "output_type": "execute_result"
    }
   ],
   "source": [
    "# Generate random data\n",
    "from sklearn.datasets import make_regression\n",
    "\n",
    "X, y = make_regression(n_samples=1000, n_features=5)\n",
    "df = pd.DataFrame(X, columns=[\"x1\",\"x2\",\"x3\",\"x4\",\"x5\"])\n",
    "df['y'] = y\n",
    "\n",
    "# Generate sample\n",
    "sample_size = 500\n",
    "sample = df.sample(n=sample_size, random_state=1)\n",
    "sample.head()"
   ]
  },
  {
   "cell_type": "markdown",
   "metadata": {},
   "source": [
    "### Calculate Z-critical, Margin of Error & CI"
   ]
  },
  {
   "cell_type": "code",
   "execution_count": 6,
   "metadata": {},
   "outputs": [
    {
     "name": "stdout",
     "output_type": "stream",
     "text": [
      "Z-critical value: 1.959963984540054\n",
      "Margin of Error: 10.455669347523331\n",
      "Confidence Interval: (-12.466336898244386, 8.445001796802277)\n"
     ]
    }
   ],
   "source": [
    "import math\n",
    "from scipy import stats\n",
    "\n",
    "sample_mean = sample.y.mean()\n",
    "np.random.seed(1)\n",
    "\n",
    "\"\"\"\n",
    "signifies the number of standard deviations \n",
    "you'd have to go from the mean of the normal \n",
    "distribution to capture the proportion of the\n",
    "data associated with the desired confidence level\n",
    "\"\"\"\n",
    "z_critical = stats.norm.ppf(q = 0.975)  # Get the z-critical value*\n",
    "\n",
    "pop_stdev = sample.y.std()  # Get the population standard deviation\n",
    "\n",
    "margin_of_error = z_critical * (pop_stdev/math.sqrt(sample_size))\n",
    "\n",
    "confidence_interval = (sample_mean - margin_of_error,\n",
    "                       sample_mean + margin_of_error)  \n",
    "\n",
    "print(\"Z-critical value:\", z_critical)\n",
    "print(\"Margin of Error:\", margin_of_error)\n",
    "print(\"Confidence Interval:\", confidence_interval)"
   ]
  },
  {
   "cell_type": "code",
   "execution_count": null,
   "metadata": {},
   "outputs": [],
   "source": []
  },
  {
   "cell_type": "code",
   "execution_count": null,
   "metadata": {},
   "outputs": [],
   "source": []
  }
 ],
 "metadata": {
  "kernelspec": {
   "display_name": "Python 3.7.6 64-bit ('base': conda)",
   "language": "python",
   "name": "python37664bitbaseconda3c74622f8e6340f68f6941cdb10a81ab"
  },
  "language_info": {
   "codemirror_mode": {
    "name": "ipython",
    "version": 3
   },
   "file_extension": ".py",
   "mimetype": "text/x-python",
   "name": "python",
   "nbconvert_exporter": "python",
   "pygments_lexer": "ipython3",
   "version": "3.7.6"
  }
 },
 "nbformat": 4,
 "nbformat_minor": 2
}
